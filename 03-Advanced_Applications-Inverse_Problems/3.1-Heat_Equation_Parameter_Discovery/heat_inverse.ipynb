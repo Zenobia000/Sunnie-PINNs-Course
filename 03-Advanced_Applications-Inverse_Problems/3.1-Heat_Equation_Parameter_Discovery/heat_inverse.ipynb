{
  "cells": [
    {
      "cell_type": "markdown",
      "metadata": {},
      "source": [
        "# Inverse Problem: Discovering Thermal Diffusivity in the 1D Heat Equation\n",
        "\n",
        "This notebook demonstrates a key capability of Physics-Informed Neural Networks (PINNs): solving **inverse problems**. We will tackle the 1D heat equation and, instead of providing all the physical parameters, we will treat the thermal diffusivity, $\\alpha$, as an unknown variable. The goal is for the PINN to **discover** the value of $\\alpha$ by learning from a small set of sparse observational data.\n",
        "\n",
        "### Problem Definition & Workflow\n",
        "\n",
        "1.  **Forward Problem Setup:** We first define a standard \"forward\" problem for the 1D heat equation with a known, true value of $\\alpha$.\n",
        "    - **PDE:** $\\frac{\\partial u}{\\partial t} = \\alpha \\frac{\\partial^2 u}{\\partial x^2}$\n",
        "    - **Domain:** $x \\in [0, 1]$, $t \\in [0, 1]$\n",
        "    - **IC:** $u(x, 0) = \\sin(\\pi x)$\n",
        "    - **BCs:** $u(0, t) = 0$, $u(1, t) = 0$\n",
        "\n",
        "2.  **Generate Synthetic Data:** We solve this forward problem to generate a reference solution. We then sample a small number of points from this solution to simulate sparse, real-world experimental measurements.\n",
        "\n",
        "3.  **Inverse Problem Setup:** We define a new PINN where the thermal diffusivity, $\\alpha$, is a learnable parameter (a `dde.Variable`).\n",
        "\n",
        "4.  **Training and Discovery:** We train the inverse model using the PDE loss, the IC/BC losses, **and a data loss** from the sparse measurements. The optimizer will adjust the weights of the neural network *and* the value of $\\alpha$ simultaneously to minimize the total loss.\n",
        "\n",
        "5.  **Verification:** Finally, we check if the value of $\\alpha$ learned by the model converges to the true value we used to generate the data.\n",
        "\n"
      ]
    },
    {
      "cell_type": "code",
      "execution_count": 2,
      "metadata": {},
      "outputs": [],
      "source": [
        "import deepxde as dde\n",
        "import numpy as np\n",
        "import matplotlib.pyplot as plt\n",
        "import seaborn as sns\n",
        "\n",
        "# Set style for plots\n",
        "sns.set_style(\"whitegrid\")\n"
      ]
    },
    {
      "cell_type": "markdown",
      "metadata": {},
      "source": [
        "### Step 1 & 2: Generate Synthetic Observational Data\n",
        "\n",
        "To perform an inverse discovery task, we first need data. In a real-world scenario, this would come from experiments. Here, we'll simulate it by creating and solving a **forward problem** with a known, true parameter value.\n",
        "\n",
        "- We define a true value for the thermal diffusivity, `alpha_true`.\n",
        "- We build a standard PINN model for the heat equation using this true value.\n",
        "- We train this model to get an accurate reference solution over the entire domain.\n",
        "\n"
      ]
    },
    {
      "cell_type": "code",
      "execution_count": null,
      "metadata": {},
      "outputs": [
        {
          "name": "stdout",
          "output_type": "stream",
          "text": [
            "Solving forward problem to generate data...\n",
            "Compiling model...\n",
            "'compile' took 14.158679 s\n",
            "\n",
            "Training model...\n",
            "\n",
            "Step      Train loss                                  Test loss                                   Test metric\n",
            "0         [7.83e-04, 1.38e-04, 3.81e-02, 6.50e-01]    [7.83e-04, 1.38e-04, 3.81e-02, 6.50e-01]    []  \n"
          ]
        },
        {
          "name": "stderr",
          "output_type": "stream",
          "text": [
            "c:\\Users\\SUNNIE.GD.WENG\\AppData\\Local\\Programs\\Python\\Python311\\Lib\\site-packages\\torch\\autograd\\graph.py:824: UserWarning: Attempting to run cuBLAS, but there was no current CUDA context! Attempting to set the primary context... (Triggered internally at C:\\actions-runner\\_work\\pytorch\\pytorch\\pytorch\\aten\\src\\ATen\\cuda\\CublasHandlePool.cpp:181.)\n",
            "  return Variable._execution_engine.run_backward(  # Calls into the C++ engine to run the backward pass\n"
          ]
        },
        {
          "name": "stdout",
          "output_type": "stream",
          "text": [
            "5000      [1.98e-05, 1.55e-06, 5.11e-06, 5.82e-06]    [1.98e-05, 1.55e-06, 5.11e-06, 5.82e-06]    []  \n",
            "10000     [9.44e-06, 6.09e-07, 9.39e-07, 1.16e-06]    [9.44e-06, 6.09e-07, 9.39e-07, 1.16e-06]    []  \n",
            "\n",
            "Best model at step 10000:\n",
            "  train loss: 1.22e-05\n",
            "  test loss: 1.22e-05\n",
            "  test metric: []\n",
            "\n",
            "'train' took 65.813197 s\n",
            "\n",
            "Forward problem solved.\n"
          ]
        }
      ],
      "source": [
        "# Define the true thermal diffusivity for data generation\n",
        "alpha_true = 0.1 / np.pi\n",
        "\n",
        "def create_forward_model():\n",
        "    \"\"\"Creates and solves the forward problem to generate reference data.\"\"\"\n",
        "    geom = dde.geometry.Interval(0, 1)\n",
        "    timedomain = dde.geometry.TimeDomain(0, 1)\n",
        "    geomtime = dde.geometry.GeometryXTime(geom, timedomain)\n",
        "\n",
        "    def pde_forward(x, u):\n",
        "        du_t = dde.grad.jacobian(u, x, i=0, j=1)\n",
        "        du_xx = dde.grad.hessian(u, x, i=0, j=0)\n",
        "        return du_t - alpha_true * du_xx\n",
        "    \n",
        "    # Define a robust initial condition function\n",
        "    def initial_condition_func(x):\n",
        "        if isinstance(x, np.ndarray):\n",
        "            sin = np.sin\n",
        "        else:\n",
        "            sin = dde.backend.sin\n",
        "        return sin(np.pi * x[:, 0:1])\n",
        "\n",
        "    bc_left = dde.DirichletBC(geomtime, lambda x: 0, lambda x, on_boundary: on_boundary and dde.utils.isclose(x[0], 0))\n",
        "    bc_right = dde.DirichletBC(geomtime, lambda x: 0, lambda x, on_boundary: on_boundary and dde.utils.isclose(x[0], 1))\n",
        "    ic = dde.IC(geomtime, initial_condition_func, lambda _, on_initial: on_initial)\n",
        "\n",
        "    data = dde.data.TimePDE(geomtime, pde_forward, [bc_left, bc_right, ic], num_domain=2540, num_boundary=80, num_initial=160)\n",
        "    net = dde.nn.FNN([2] + [20] * 3 + [1], \"tanh\", \"Glorot normal\")\n",
        "    model = dde.Model(data, net)\n",
        "    \n",
        "    print(\"Solving forward problem to generate data...\")\n",
        "    model.compile(\"adam\", lr=1e-3)\n",
        "    model.train(iterations=10000, display_every=5000)\n",
        "    print(\"Forward problem solved.\")\n",
        "    return model\n",
        "\n",
        "# Create and solve the forward model\n",
        "forward_model = create_forward_model()\n",
        "\n"
      ]
    },
    {
      "cell_type": "markdown",
      "metadata": {},
      "source": [
        "### Step 3: Sample Sparse Data from the Reference Solution\n",
        "\n",
        "With the trained forward model, we can now generate our \"experimental\" data. We do this by predicting the solution `u(x, t)` at a small number of randomly chosen points within the domain. This simulates having sparse measurements from sensors.\n",
        "\n",
        "- We create `num_measurements` random points `(x, t)`.\n",
        "- We use `forward_model.predict()` to get the solution values at these points.\n",
        "- We package these points and their corresponding values into a `dde.PointSetBC` object. This object will later serve as a boundary condition (a data-driven one) for our inverse problem, forcing the new model's solution to pass through these known points.\n",
        "\n"
      ]
    },
    {
      "cell_type": "code",
      "execution_count": 4,
      "metadata": {},
      "outputs": [],
      "source": [
        "# Set the number of measurement points\n",
        "num_measurements = 50\n",
        "\n",
        "# Generate random observation points in the domain [0,1] x [0,1]\n",
        "observe_x = np.random.rand(num_measurements, 2)\n",
        "\n",
        "# Predict the solution at these points to get the measurement values\n",
        "observe_u = forward_model.predict(observe_x)\n",
        "\n",
        "# Optional: Add random noise to simulate real-world measurement errors\n",
        "# noise_level = 0.01\n",
        "# observe_u += noise_level * np.std(observe_u) * np.random.randn(*observe_u.shape)\n",
        "\n",
        "# Create the PointSetBC object, which will enforce the data constraint in the inverse problem\n",
        "observe_points = dde.PointSetBC(observe_x, observe_u)\n"
      ]
    },
    {
      "cell_type": "markdown",
      "metadata": {},
      "source": [
        "### Step 4: Define and Solve the Inverse Problem\n",
        "\n",
        "This is where we set up the PINN to discover the unknown parameter.\n",
        "\n",
        "- **Learnable Variable:** We define `alpha_inverse` as a `dde.Variable`. This tells `deepxde` that `alpha_inverse` is a trainable parameter, just like the weights and biases of the neural network. We initialize it with a guess (e.g., `0.0`).\n",
        "- **Inverse PDE:** The `pde_inverse` function is almost identical to the forward PDE, but it uses the learnable `alpha_inverse` instead of the fixed `alpha_true`.\n",
        "- **Data Assembly:** We create a new `dde.data.TimePDE` object. Crucially, we add our `observe_points` object to the list of boundary/initial conditions. The loss function will now include a term that measures the difference between the network's prediction and our sparse data, driving the solution to honor these measurements.\n",
        "- **Training Configuration:**\n",
        "    - When compiling the model, we must pass our learnable variable to the `external_trainable_variables` argument. This ensures the optimizer knows to update it.\n",
        "    - We use a `dde.callbacks.VariableValue` callback. This is a utility that records the value of `alpha_inverse` at regular intervals during training, allowing us to visualize its convergence later.\n",
        "  \n"
      ]
    },
    {
      "cell_type": "code",
      "execution_count": 5,
      "metadata": {},
      "outputs": [
        {
          "name": "stdout",
          "output_type": "stream",
          "text": [
            "\n",
            "Solving inverse problem...\n",
            "Compiling model...\n",
            "'compile' took 0.000182 s\n",
            "\n",
            "Training model...\n",
            "\n",
            "Step      Train loss                                            Test loss                                             Test metric\n",
            "0         [4.55e-02, 1.01e-02, 5.90e-03, 3.59e-01, 3.80e-01]    [4.55e-02, 1.01e-02, 5.90e-03, 3.59e-01, 3.80e-01]    []  \n",
            "1000      [1.05e-03, 8.46e-05, 1.56e-04, 4.18e-04, 2.06e-04]    [1.05e-03, 8.46e-05, 1.56e-04, 4.18e-04, 2.06e-04]    []  \n",
            "2000      [8.96e-05, 5.74e-06, 3.38e-05, 2.80e-05, 9.59e-06]    [8.96e-05, 5.74e-06, 3.38e-05, 2.80e-05, 9.59e-06]    []  \n",
            "3000      [6.46e-05, 5.15e-06, 2.36e-05, 1.88e-05, 5.50e-06]    [6.46e-05, 5.15e-06, 2.36e-05, 1.88e-05, 5.50e-06]    []  \n",
            "4000      [4.78e-05, 3.32e-06, 1.72e-05, 1.36e-05, 3.44e-06]    [4.78e-05, 3.32e-06, 1.72e-05, 1.36e-05, 3.44e-06]    []  \n",
            "5000      [3.60e-05, 1.68e-06, 1.19e-05, 8.30e-06, 2.04e-06]    [3.60e-05, 1.68e-06, 1.19e-05, 8.30e-06, 2.04e-06]    []  \n",
            "6000      [2.82e-05, 7.18e-07, 7.64e-06, 4.86e-06, 1.08e-06]    [2.82e-05, 7.18e-07, 7.64e-06, 4.86e-06, 1.08e-06]    []  \n",
            "7000      [2.43e-05, 3.76e-07, 4.90e-06, 3.17e-06, 6.21e-07]    [2.43e-05, 3.76e-07, 4.90e-06, 3.17e-06, 6.21e-07]    []  \n",
            "8000      [2.38e-05, 3.05e-06, 5.43e-05, 1.71e-05, 2.59e-05]    [2.38e-05, 3.05e-06, 5.43e-05, 1.71e-05, 2.59e-05]    []  \n",
            "9000      [1.98e-05, 2.03e-07, 2.99e-06, 2.13e-06, 3.44e-07]    [1.98e-05, 2.03e-07, 2.99e-06, 2.13e-06, 3.44e-07]    []  \n",
            "10000     [1.78e-05, 1.62e-07, 2.63e-06, 1.76e-06, 3.03e-07]    [1.78e-05, 1.62e-07, 2.63e-06, 1.76e-06, 3.03e-07]    []  \n",
            "11000     [1.62e-05, 1.56e-07, 2.27e-06, 1.51e-06, 3.30e-07]    [1.62e-05, 1.56e-07, 2.27e-06, 1.51e-06, 3.30e-07]    []  \n",
            "12000     [1.47e-05, 1.10e-07, 1.99e-06, 1.35e-06, 2.31e-07]    [1.47e-05, 1.10e-07, 1.99e-06, 1.35e-06, 2.31e-07]    []  \n",
            "13000     [1.38e-05, 5.84e-07, 8.02e-06, 1.80e-06, 1.57e-06]    [1.38e-05, 5.84e-07, 8.02e-06, 1.80e-06, 1.57e-06]    []  \n",
            "14000     [1.23e-05, 1.02e-07, 1.48e-06, 1.04e-06, 2.06e-07]    [1.23e-05, 1.02e-07, 1.48e-06, 1.04e-06, 2.06e-07]    []  \n",
            "15000     [1.11e-05, 1.57e-07, 1.50e-06, 7.68e-07, 3.41e-07]    [1.11e-05, 1.57e-07, 1.50e-06, 7.68e-07, 3.41e-07]    []  \n",
            "16000     [1.02e-05, 8.08e-08, 1.10e-06, 7.66e-07, 1.37e-07]    [1.02e-05, 8.08e-08, 1.10e-06, 7.66e-07, 1.37e-07]    []  \n",
            "17000     [1.20e-05, 7.02e-06, 1.14e-04, 4.43e-05, 5.45e-05]    [1.20e-05, 7.02e-06, 1.14e-04, 4.43e-05, 5.45e-05]    []  \n",
            "18000     [8.68e-06, 7.27e-08, 7.96e-07, 5.52e-07, 1.14e-07]    [8.68e-06, 7.27e-08, 7.96e-07, 5.52e-07, 1.14e-07]    []  \n",
            "19000     [1.68e-05, 6.68e-05, 1.80e-04, 1.10e-04, 1.39e-04]    [1.68e-05, 6.68e-05, 1.80e-04, 1.10e-04, 1.39e-04]    []  \n",
            "20000     [7.60e-06, 6.39e-08, 5.73e-07, 3.94e-07, 1.04e-07]    [7.60e-06, 6.39e-08, 5.73e-07, 3.94e-07, 1.04e-07]    []  \n",
            "\n",
            "Best model at step 20000:\n",
            "  train loss: 8.73e-06\n",
            "  test loss: 8.73e-06\n",
            "  test metric: []\n",
            "\n",
            "'train' took 138.417539 s\n",
            "\n"
          ]
        }
      ],
      "source": [
        "# Define the unknown parameter alpha as a dde.Variable.\n",
        "# We initialize it with a guess, e.g., 0.0\n",
        "alpha_inverse = dde.Variable(0.0)\n",
        "\n",
        "def pde_inverse(x, u):\n",
        "    \"\"\"PDE residual for the inverse problem with a learnable alpha.\"\"\"\n",
        "    du_t = dde.grad.jacobian(u, x, i=0, j=1)\n",
        "    du_xx = dde.grad.hessian(u, x, i=0, j=0)\n",
        "    return du_t - alpha_inverse * du_xx\n",
        "\n",
        "# Reuse the same geometry and IC/BC definitions\n",
        "geom = dde.geometry.Interval(0, 1)\n",
        "timedomain = dde.geometry.TimeDomain(0, 1)\n",
        "geomtime = dde.geometry.GeometryXTime(geom, timedomain)\n",
        "\n",
        "# Define a robust initial condition function again for the inverse problem\n",
        "def initial_condition_func_inverse(x):\n",
        "    if isinstance(x, np.ndarray):\n",
        "        sin = np.sin\n",
        "    else:\n",
        "        sin = dde.backend.sin\n",
        "    return sin(np.pi * x[:, 0:1])\n",
        "\n",
        "bc_left = dde.DirichletBC(geomtime, lambda x: 0, lambda x, on_boundary: on_boundary and dde.utils.isclose(x[0], 0))\n",
        "bc_right = dde.DirichletBC(geomtime, lambda x: 0, lambda x, on_boundary: on_boundary and dde.utils.isclose(x[0], 1))\n",
        "ic = dde.IC(geomtime, initial_condition_func_inverse, lambda _, on_initial: on_initial)\n",
        "\n",
        "# In the inverse problem, the boundary conditions include the observational data points\n",
        "data_inverse = dde.data.TimePDE(\n",
        "    geomtime,\n",
        "    pde_inverse,\n",
        "    [bc_left, bc_right, ic, observe_points], # Add the PointSetBC here\n",
        "    num_domain=2540,\n",
        "    num_boundary=80,\n",
        "    num_initial=160,\n",
        ")\n",
        "\n",
        "net_inverse = dde.nn.FNN([2] + [20] * 3 + [1], \"tanh\", \"Glorot normal\")\n",
        "\n",
        "# Glorot normal (also known as Xavier normal initialization) is a weight initialization method\n",
        "# It initializes weights from a normal distribution with mean=0 and variance=2/(fan_in + fan_out)\n",
        "# where fan_in is the number of input units and fan_out is the number of output units\n",
        "# This helps maintain the variance of activations and gradients across layers during training\n",
        "\n",
        "\n",
        "model_inverse = dde.Model(data_inverse, net_inverse)\n",
        "\n",
        "# We need to tell the optimizer to train the external variable (alpha) as well\n",
        "external_trainable_variables = [alpha_inverse]\n",
        "variable_filename = \"variables.dat\"\n",
        "variable_callback = dde.callbacks.VariableValue(\n",
        "    external_trainable_variables, period=1000, filename=variable_filename\n",
        ")\n",
        "\n",
        "print(\"\\nSolving inverse problem...\")\n",
        "model_inverse.compile(\"adam\", lr=1e-3, external_trainable_variables=external_trainable_variables)\n",
        "losshistory, train_state = model_inverse.train(iterations=20000, callbacks=[variable_callback])\n"
      ]
    },
    {
      "cell_type": "markdown",
      "metadata": {},
      "source": [
        "### Step 5: Check the Result\n",
        "\n",
        "After the inverse model is trained, we can check how well the PINN performed its discovery task.\n",
        "\n",
        "- **Final Value:** We compare the final value of `alpha_inverse` to the `alpha_true` we used to generate the data.\n",
        "- **Convergence Plot:** We read the `variables.dat` file saved by our callback to plot the value of `alpha` at each recorded epoch. This visualization is crucial to confirm that the parameter has converged to a stable value and didn't just stop at a random point.\n"
      ]
    },
    {
      "cell_type": "code",
      "execution_count": 38,
      "metadata": {},
      "outputs": [
        {
          "name": "stdout",
          "output_type": "stream",
          "text": [
            "\n",
            "True value of alpha: 0.031831\n",
            "Learned value of alpha: 0.031694\n"
          ]
        },
        {
          "data": {
            "image/png": "[encoded data removed]",
            "text/plain": [
              "<Figure size 800x500 with 1 Axes>"
            ]
          },
          "metadata": {},
          "output_type": "display_data"
        }
      ],
      "source": [
        "# Print the final learned value against the true value\n",
        "print(f\"\\nTrue value of alpha: {alpha_true:.6f}\")\n",
        "learned_alpha = np.array(alpha_inverse.data.cpu())\n",
        "print(f\"Learned value of alpha: {learned_alpha:.6f}\")\n",
        "\n",
        "# Plot the convergence of alpha\n",
        "lines = open(variable_filename, \"r\").readlines()\n",
        "\n",
        "# Parse the alpha values from the file format\n",
        "# The format is: \"epoch [value]\" so we need to extract the value from the brackets\n",
        "import re\n",
        "\n",
        "alpha_history = []\n",
        "for line in lines:\n",
        "    # Use regex to extract the value between brackets\n",
        "    match = re.search(r'\\[(.*?)\\]', line.strip())\n",
        "    if match:\n",
        "        alpha_history.append(float(match.group(1)))\n",
        "\n",
        "alpha_history = np.array(alpha_history)\n",
        "\n",
        "\n",
        "plt.figure(figsize=(8, 5))\n",
        "# The x-axis is the epoch number, which is the iteration number (0, 1000, 2000...)\n",
        "plt.plot(np.arange(len(alpha_history)) * 1000, alpha_history, marker='o', linestyle='-')\n",
        "plt.axhline(y=alpha_true, color='r', linestyle='--', label=f'True value ({alpha_true:.4f})')\n",
        "plt.xlabel(\"Epoch\")\n",
        "plt.ylabel(\"Value of alpha\")\n",
        "plt.title(\"Convergence of the Learned Thermal Diffusivity (alpha)\")\n",
        "plt.legend()\n",
        "plt.grid(True)\n",
        "plt.show()\n"
      ]
    }
  ],
  "metadata": {
    "kernelspec": {
      "display_name": "Python 3",
      "language": "python",
      "name": "python3"
    },
    "language_info": {
      "codemirror_mode": {
        "name": "ipython",
        "version": 3
      },
      "file_extension": ".py",
      "mimetype": "text/x-python",
      "name": "python",
      "nbconvert_exporter": "python",
      "pygments_lexer": "ipython3",
      "version": "3.11.9"
    }
  },
  "nbformat": 4,
  "nbformat_minor": 2
}
